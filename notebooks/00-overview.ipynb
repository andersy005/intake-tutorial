{
 "cells": [
  {
   "cell_type": "markdown",
   "id": "be4f4515-2b3f-4ee5-b940-7d6a591ba565",
   "metadata": {},
   "source": [
    "<img src=\"../images/intake-logo.svg\" align=\"right\" width=\"30%\">"
   ]
  },
  {
   "cell_type": "markdown",
   "id": "2f85e446-1e0d-470f-b3b7-7d4f35457ce4",
   "metadata": {},
   "source": [
    "# Introduction\n",
    "\n",
    "## THE 80/20 Data Science Dilemna \n",
    "\n",
    "**Do data scientists spend 80% of their time gathering & cleaning data?**\n",
    "\n",
    "- The 80/20 split varies depending on who you ask\n",
    "- For some use cases, the data gathering and cleaning steps are on-going integral parts of the workflows\n",
    "\n",
    "\n",
    "### Typical Workflow: Without a Data Catalog\n",
    "\n",
    "<img src=\"https://raw.githubusercontent.com/andersy005/talks/gh-pages/images/intake-esm/no-data-catalog.drawio.svg\">\n",
    "\n",
    "- **Scientists spend a considerable portion of their research time ⏰** writing in-house, customized code solutions for finding and understanding data\n",
    "\n",
    "\n",
    "- Some challenges that make this kind of workflow harder to work with:\n",
    "\n",
    "    - Data are big\n",
    "    - Data are heterogeneous\n",
    "    - Data are stored in remote storage systems (cloud bucket objects, HTTP servers, FTP servers)\n",
    "    - Data analysis is getting more complex\n",
    "    \n",
    "    \n",
    "- **Can we spend more time analyzing data and less time writing (and re-writing) code for retrieving, cleaning, disseminating data?** \n",
    "    - Answer: A resounding yes... and data catalogs are among the solutions ...\n",
    "\n",
    "\n",
    "### Refined Workfow: With a Data Catalog \n",
    "\n",
    "\n",
    "<img src=\"https://raw.githubusercontent.com/andersy005/talks/gh-pages/images/intake-esm/with-data-catalog.drawio.svg\">\n",
    "\n"
   ]
  },
  {
   "cell_type": "markdown",
   "id": "8717794d-ba9a-4fc0-a0cb-29306f2bb502",
   "metadata": {},
   "source": [
    "## Intake\n",
    "\n",
    "- intake is a lightweight package that streamlines the retrieval, investigation, loading and dissemination of data\n",
    "- Intake's functionality appeals to a variety of departments and roles with an organization/team (developers, data engineers, data scientists)\n",
    "\n",
    "\n",
    "### Main components\n",
    "\n",
    "- **Catalogs**:\n",
    "    - A collection of entries (assets) which corresponds to a specific dataset\n",
    "    - A catalog is commonly defined in YAML file, but there are other possibilities such as SQL database, CSV, etc..\n",
    "    - Catalogs form a hierarchy i.e. any catalog can reference (contain) another\n",
    "\n",
    "- **Drivers**\n",
    "    - A Python object (class) responsible for loading the data for a catalog entry into a computation ready container (list-of-dicts, Numpy nd-array, Pandas data-frame, xarray.Dataset, xarray.DataArray, etc...)"
   ]
  },
  {
   "cell_type": "code",
   "execution_count": null,
   "id": "9057af3d-193a-4b5a-8b67-de164e8db1ca",
   "metadata": {},
   "outputs": [],
   "source": []
  }
 ],
 "metadata": {
  "kernelspec": {
   "display_name": "Python 3",
   "language": "python",
   "name": "python3"
  },
  "language_info": {
   "codemirror_mode": {
    "name": "ipython",
    "version": 3
   },
   "file_extension": ".py",
   "mimetype": "text/x-python",
   "name": "python",
   "nbconvert_exporter": "python",
   "pygments_lexer": "ipython3",
   "version": "3.8.8"
  }
 },
 "nbformat": 4,
 "nbformat_minor": 5
}
